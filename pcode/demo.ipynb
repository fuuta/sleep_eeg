{
 "cells": [
  {
   "cell_type": "markdown",
   "metadata": {},
   "source": [
    "# Demo Scripts for the wfdb-python package\n",
    "\n",
    "Run this script from the base directory of the git repository to access the included demo files"
   ]
  },
  {
   "cell_type": "code",
   "execution_count": 43,
   "metadata": {
    "collapsed": true
   },
   "outputs": [],
   "source": [
    "import wfdb\n",
    "import numpy as np\n",
    "import os\n",
    "import matplotlib.pyplot as plt\n",
    "from IPython.display import display"
   ]
  },
  {
   "cell_type": "code",
   "execution_count": 44,
   "metadata": {},
   "outputs": [
    {
     "name": "stdout",
     "output_type": "stream",
     "text": [
      "Help on function rdsamp in module wfdb.readwrite.records:\n",
      "\n",
      "rdsamp(recordname, sampfrom=0, sampto=None, channels=None, physical=True, pbdir=None, m2s=True, smoothframes=True, ignoreskew=False, returnres=64)\n",
      "    Read a WFDB record and return the signal and record descriptors as attributes in a\n",
      "    Record or MultiRecord object.\n",
      "    \n",
      "    Usage:\n",
      "    record = rdsamp(recordname, sampfrom=0, sampto=None, channels=None, physical=True, pbdir = None,\n",
      "             m2s=True, smoothframes = True, ignoreskew=False)\n",
      "    \n",
      "    Input arguments:\n",
      "    - recordname (required): The name of the WFDB record to be read (without any file extensions).\n",
      "      If the argument contains any path delimiter characters, the argument will be interpreted as\n",
      "      PATH/baserecord and the data files will be searched for in the local path.\n",
      "    - sampfrom (default=0): The starting sample number to read for each channel.\n",
      "    - sampto (default=None): The sample number at which to stop reading for each channel.\n",
      "    - channels (default=all): Indices specifying the channel to be returned.\n",
      "    - physical (default=True): Flag that specifies whether to return signals in physical units in\n",
      "      the p_signals field (True), or digital units in the d_signals field (False).\n",
      "    - pbdir (default=None): Option used to stream data from Physiobank. The Physiobank database\n",
      "       directory from which to find the required record files.\n",
      "      eg. For record '100' in 'http://physionet.org/physiobank/database/mitdb', pbdir = 'mitdb'.\n",
      "    - m2s (default=True): Flag used when reading multi-segment records. Specifies whether to\n",
      "      directly return a wfdb MultiRecord object (False), or to convert it into and return a wfdb\n",
      "      Record object (True).\n",
      "    - smoothframes (default=True): Flag used when reading records with signals having multiple\n",
      "      samples per frame. Specifies whether to smooth the samples in signals with more than\n",
      "      one sample per frame and return an mxn uniform numpy array as the d_signals or p_signals\n",
      "      field (True), or to return a list of 1d numpy arrays containing every expanded sample as\n",
      "      the e_d_signals or e_p_signals field (False).\n",
      "    - ignoreskew (default=False): Flag used when reading records with at least one skewed signal.\n",
      "      Specifies whether to apply the skew to align the signals in the output variable (False), or\n",
      "      to ignore the skew field and load in all values contained in the dat files unaligned (True).\n",
      "    - returnres (default=64): The numpy array dtype of the returned signals. Options are: 64, 32,\n",
      "       16, and 8, where the value represents the numpy int or float dtype. Note that the value\n",
      "       cannot be 8 when physical is True since there is no float8 format.\n",
      "    \n",
      "    Output argument:\n",
      "    - record: The wfdb Record or MultiRecord object representing the contents of the record read.\n",
      "    \n",
      "    Note: If a signal range or channel selection is specified when calling this function, the\n",
      "          the resulting attributes of the returned object will be set to reflect the section\n",
      "          of the record that is actually read, rather than necessarily what is in the header file.\n",
      "          For example, if channels = [0, 1, 2] is specified when reading a 12 channel record, the\n",
      "          'nsig' attribute will be 3, not 12.\n",
      "    \n",
      "    Note: The 'srdsamp' function exists as a simple alternative to 'rdsamp' for the most common\n",
      "          purpose of extracting the physical signals and a few important descriptor fields.\n",
      "          'srdsamp' returns two arguments: the physical signals array, and a dictionary of a\n",
      "          few select fields, a subset of the original wfdb Record attributes.\n",
      "    \n",
      "    Example Usage:\n",
      "    import wfdb\n",
      "    ecgrecord = wfdb.rdsamp('sampledata/test01_00s', sampfrom=800, channels = [1,3])\n",
      "\n",
      "Help on function srdsamp in module wfdb.readwrite.records:\n",
      "\n",
      "srdsamp(recordname, sampfrom=0, sampto=None, channels=None, pbdir=None)\n",
      "    Read a WFDB record and return the physical signal and a few important descriptor fields\n",
      "    \n",
      "    Usage:\n",
      "    signals, fields = srdsamp(recordname, sampfrom=0, sampto=None, channels=None, pbdir=None)\n",
      "    \n",
      "    Input arguments:\n",
      "    - recordname (required): The name of the WFDB record to be read (without any file extensions).\n",
      "      If the argument contains any path delimiter characters, the argument will be interpreted as\n",
      "      PATH/baserecord and the data files will be searched for in the local path.\n",
      "    - sampfrom (default=0): The starting sample number to read for each channel.\n",
      "    - sampto (default=None): The sample number at which to stop reading for each channel.\n",
      "    - channels (default=all): Indices specifying the channel to be returned.\n",
      "    \n",
      "    Output arguments:\n",
      "    - signals: A 2d numpy array storing the physical signals from the record.\n",
      "    - fields: A dictionary specifying several key attributes of the read record:\n",
      "        - fs: The sampling frequency of the record\n",
      "        - units: The units for each channel\n",
      "        - signame: The signal name for each channel\n",
      "        - comments: Any comments written in the header\n",
      "    \n",
      "    Note: If a signal range or channel selection is specified when calling this function, the\n",
      "          the resulting attributes of the returned object will be set to reflect the section\n",
      "          of the record that is actually read, rather than necessarily what is in the header file.\n",
      "          For example, if channels = [0, 1, 2] is specified when reading a 12 channel record, the\n",
      "          'nsig' attribute will be 3, not 12.\n",
      "    \n",
      "    Note: The 'rdsamp' function is the base function upon which this one is built. It returns\n",
      "          all attributes present, along with the signals, as attributes in a wfdb.Record object.\n",
      "          The function, along with the returned data type, have more options than 'srdsamp' for\n",
      "          users who wish to more directly manipulate WFDB files.\n",
      "    \n",
      "    Example Usage:\n",
      "    import wfdb\n",
      "    sig, fields = wfdb.srdsamp('sampledata/test01_00s', sampfrom=800, channels = [1,3])\n",
      "\n",
      "Help on function rdann in module wfdb.readwrite.annotations:\n",
      "\n",
      "rdann(recordname, extension, sampfrom=0, sampto=None, shiftsamps=False, pbdir=None, return_label_elements=['symbol'], summarize_labels=False)\n",
      "    Read a WFDB annotation file recordname.extension and return an\n",
      "    Annotation object.\n",
      "    \n",
      "    Usage: \n",
      "    annotation = rdann(recordname, extension, sampfrom=0, sampto=None, shiftsamps=False,\n",
      "                 pbdir=None, return_label_elements=['symbol'], summarize_labels=False)\n",
      "    \n",
      "    Input arguments:\n",
      "    - recordname (required): The record name of the WFDB annotation file. ie. for \n",
      "      file '100.atr', recordname='100'\n",
      "    - extension (required): The annotatator extension of the annotation file. ie. for \n",
      "      file '100.atr', extension='atr'\n",
      "    - sampfrom (default=0): The minimum sample number for annotations to be returned.\n",
      "    - sampto (default=None): The maximum sample number for annotations to be returned.\n",
      "    - shiftsamps (default=False): Boolean flag that specifies whether to return the\n",
      "      sample indices relative to 'sampfrom' (True), or sample 0 (False). Annotation files\n",
      "      store exact sample locations.\n",
      "    - pbdir (default=None): Option used to stream data from Physiobank. The Physiobank database \n",
      "      directory from which to find the required annotation file.\n",
      "      eg. For record '100' in 'http://physionet.org/physiobank/database/mitdb', pbdir = 'mitdb'.\n",
      "    - return_label_elements (default=['symbol']): The label elements that are to be returned\n",
      "      from reading the annotation file. A list with at least one of the following: 'symbol',\n",
      "      'label_store', 'description'.\n",
      "    - summarize_labels (default=False): Assign a summary table of the set of annotation labels\n",
      "      contained in the file to the 'contained_labels' attribute of the returned object.\n",
      "      This table will contain the columns: ['label_store', 'symbol', 'description', 'n_occurences']\n",
      "    \n",
      "    Output argument:\n",
      "    - annotation: The Annotation object. Call help(wfdb.Annotation) for the attribute\n",
      "      descriptions.\n",
      "    \n",
      "    Note: For every annotation sample, the annotation file explictly stores the 'sample' \n",
      "    and 'symbol' fields but not necessarily the others. When reading annotation files\n",
      "    using this function, fields which are not stored in the file will either take their\n",
      "    default values of 0 or None, or will be carried over from their previous values if any.\n",
      "    \n",
      "    Example usage:\n",
      "    import wfdb\n",
      "    ann = wfdb.rdann('sampledata/100', 'atr', sampto = 300000)\n",
      "\n"
     ]
    }
   ],
   "source": [
    "# See the help documentation for the read functions\n",
    "\n",
    "help(wfdb.rdsamp)\n",
    "help(wfdb.srdsamp)\n",
    "help(wfdb.rdann)"
   ]
  },
  {
   "cell_type": "markdown",
   "metadata": {},
   "source": [
    "## Reading Records and Annotations"
   ]
  },
  {
   "cell_type": "code",
   "execution_count": 45,
   "metadata": {},
   "outputs": [
    {
     "data": {
      "image/png": "[encoded data removed]",
      "text/plain": [
       "<matplotlib.figure.Figure at 0x104928400>"
      ]
     },
     "metadata": {},
     "output_type": "display_data"
    },
    {
     "data": {
      "text/plain": [
       "{'adcgain': [7247.0, 10520.0, 12530.0],\n",
       " 'adcres': [16, 16, 16],\n",
       " 'adczero': [0, 0, 0],\n",
       " 'basecounter': None,\n",
       " 'basedate': None,\n",
       " 'baseline': [0, 0, 0],\n",
       " 'basetime': None,\n",
       " 'blocksize': [0, 0, 0],\n",
       " 'byteoffset': [24, 24, 24],\n",
       " 'checksum': [-27403, -301, -17391],\n",
       " 'comments': ['Asystole', 'False alarm'],\n",
       " 'counterfreq': None,\n",
       " 'd_signals': None,\n",
       " 'e_d_signals': None,\n",
       " 'e_p_signals': None,\n",
       " 'filename': ['a103l.mat', 'a103l.mat', 'a103l.mat'],\n",
       " 'fmt': ['16', '16', '16'],\n",
       " 'fs': 250,\n",
       " 'initvalue': [-171, 9127, 6042],\n",
       " 'nsig': 3,\n",
       " 'p_signals': array([[-0.02359597,  0.86758555,  0.48220271],\n",
       "        [-0.03698082,  0.98298479,  0.5443735 ],\n",
       "        [-0.06292259,  0.85979087,  0.47821229],\n",
       "        ..., \n",
       "        [-0.04084449,  0.7493346 ,  0.5150838 ],\n",
       "        [-0.04719194,  0.7581749 ,  0.50957702],\n",
       "        [-0.04677798,  0.7615019 ,  0.5028731 ]]),\n",
       " 'recordname': 'a103l',\n",
       " 'sampsperframe': [1, 1, 1],\n",
       " 'siglen': 82500,\n",
       " 'signame': ['II', 'V', 'PLETH'],\n",
       " 'skew': [None, None, None],\n",
       " 'units': ['mV', 'mV', 'NU']}"
      ]
     },
     "metadata": {},
     "output_type": "display_data"
    },
    {
     "ename": "HTTPError",
     "evalue": "404 Client Error: Not Found for url: http://physionet.org/physiobank/database/sleep-edfx/SC4001E0-PSG.hea",
     "output_type": "error",
     "traceback": [
      "\u001b[0;31m---------------------------------------------------------------------------\u001b[0m",
      "\u001b[0;31mHTTPError\u001b[0m                                 Traceback (most recent call last)",
      "\u001b[0;32m<ipython-input-45-e0ae0fc136ee>\u001b[0m in \u001b[0;36m<module>\u001b[0;34m()\u001b[0m\n\u001b[1;32m      9\u001b[0m \u001b[0;31m# in the challenge/2015/training/ database subdirectory. Full url = https://physionet.org/physiobank/database/challenge/2015/training/\u001b[0m\u001b[0;34m\u001b[0m\u001b[0;34m\u001b[0m\u001b[0m\n\u001b[1;32m     10\u001b[0m \u001b[0mrecord2\u001b[0m \u001b[0;34m=\u001b[0m \u001b[0mwfdb\u001b[0m\u001b[0;34m.\u001b[0m\u001b[0mrdsamp\u001b[0m\u001b[0;34m(\u001b[0m\u001b[0;34m'a103l'\u001b[0m\u001b[0;34m,\u001b[0m \u001b[0mpbdir\u001b[0m \u001b[0;34m=\u001b[0m \u001b[0;34m'challenge/2015/training/'\u001b[0m\u001b[0;34m)\u001b[0m\u001b[0;34m\u001b[0m\u001b[0m\n\u001b[0;32m---> 11\u001b[0;31m \u001b[0mrecord3\u001b[0m \u001b[0;34m=\u001b[0m \u001b[0mwfdb\u001b[0m\u001b[0;34m.\u001b[0m\u001b[0mrdsamp\u001b[0m\u001b[0;34m(\u001b[0m\u001b[0;34m'SC4001E0-PSG'\u001b[0m\u001b[0;34m,\u001b[0m \u001b[0mpbdir\u001b[0m \u001b[0;34m=\u001b[0m \u001b[0;34m'sleep-edfx/'\u001b[0m\u001b[0;34m)\u001b[0m\u001b[0;34m\u001b[0m\u001b[0m\n\u001b[0m",
      "\u001b[0;32m/Users/futa/Documents/Interdiciplinary/pcode/wfdb/readwrite/records.py\u001b[0m in \u001b[0;36mrdsamp\u001b[0;34m(recordname, sampfrom, sampto, channels, physical, pbdir, m2s, smoothframes, ignoreskew, returnres)\u001b[0m\n\u001b[1;32m    799\u001b[0m \u001b[0;34m\u001b[0m\u001b[0m\n\u001b[1;32m    800\u001b[0m     \u001b[0;31m# Read the header fields into the appropriate record object\u001b[0m\u001b[0;34m\u001b[0m\u001b[0;34m\u001b[0m\u001b[0m\n\u001b[0;32m--> 801\u001b[0;31m     \u001b[0mrecord\u001b[0m \u001b[0;34m=\u001b[0m \u001b[0mrdheader\u001b[0m\u001b[0;34m(\u001b[0m\u001b[0mrecordname\u001b[0m\u001b[0;34m,\u001b[0m \u001b[0mpbdir\u001b[0m \u001b[0;34m=\u001b[0m \u001b[0mpbdir\u001b[0m\u001b[0;34m,\u001b[0m \u001b[0mrdsegments\u001b[0m \u001b[0;34m=\u001b[0m \u001b[0;32mFalse\u001b[0m\u001b[0;34m)\u001b[0m\u001b[0;34m\u001b[0m\u001b[0m\n\u001b[0m\u001b[1;32m    802\u001b[0m \u001b[0;34m\u001b[0m\u001b[0m\n\u001b[1;32m    803\u001b[0m     \u001b[0;31m# Set defaults for sampto and channels input variables\u001b[0m\u001b[0;34m\u001b[0m\u001b[0;34m\u001b[0m\u001b[0m\n",
      "\u001b[0;32m/Users/futa/Documents/Interdiciplinary/pcode/wfdb/readwrite/records.py\u001b[0m in \u001b[0;36mrdheader\u001b[0;34m(recordname, pbdir, rdsegments)\u001b[0m\n\u001b[1;32m    926\u001b[0m \u001b[0;34m\u001b[0m\u001b[0m\n\u001b[1;32m    927\u001b[0m     \u001b[0;31m# Read the header file. Separate comment and non-comment lines\u001b[0m\u001b[0;34m\u001b[0m\u001b[0;34m\u001b[0m\u001b[0m\n\u001b[0;32m--> 928\u001b[0;31m     \u001b[0mheaderlines\u001b[0m\u001b[0;34m,\u001b[0m \u001b[0mcommentlines\u001b[0m \u001b[0;34m=\u001b[0m \u001b[0m_headers\u001b[0m\u001b[0;34m.\u001b[0m\u001b[0mgetheaderlines\u001b[0m\u001b[0;34m(\u001b[0m\u001b[0mrecordname\u001b[0m\u001b[0;34m,\u001b[0m \u001b[0mpbdir\u001b[0m\u001b[0;34m)\u001b[0m\u001b[0;34m\u001b[0m\u001b[0m\n\u001b[0m\u001b[1;32m    929\u001b[0m \u001b[0;34m\u001b[0m\u001b[0m\n\u001b[1;32m    930\u001b[0m     \u001b[0;31m# Get fields from record line\u001b[0m\u001b[0;34m\u001b[0m\u001b[0;34m\u001b[0m\u001b[0m\n",
      "\u001b[0;32m/Users/futa/Documents/Interdiciplinary/pcode/wfdb/readwrite/_headers.py\u001b[0m in \u001b[0;36mgetheaderlines\u001b[0;34m(recordname, pbdir)\u001b[0m\n\u001b[1;32m    455\u001b[0m     \u001b[0;31m# Read online header file\u001b[0m\u001b[0;34m\u001b[0m\u001b[0;34m\u001b[0m\u001b[0m\n\u001b[1;32m    456\u001b[0m     \u001b[0;32melse\u001b[0m\u001b[0;34m:\u001b[0m\u001b[0;34m\u001b[0m\u001b[0m\n\u001b[0;32m--> 457\u001b[0;31m         \u001b[0mheaderlines\u001b[0m\u001b[0;34m,\u001b[0m \u001b[0mcommentlines\u001b[0m \u001b[0;34m=\u001b[0m \u001b[0mdownloads\u001b[0m\u001b[0;34m.\u001b[0m\u001b[0mstreamheader\u001b[0m\u001b[0;34m(\u001b[0m\u001b[0mrecordname\u001b[0m\u001b[0;34m,\u001b[0m \u001b[0mpbdir\u001b[0m\u001b[0;34m)\u001b[0m\u001b[0;34m\u001b[0m\u001b[0m\n\u001b[0m\u001b[1;32m    458\u001b[0m \u001b[0;34m\u001b[0m\u001b[0m\n\u001b[1;32m    459\u001b[0m     \u001b[0;32mreturn\u001b[0m \u001b[0mheaderlines\u001b[0m\u001b[0;34m,\u001b[0m \u001b[0mcommentlines\u001b[0m\u001b[0;34m\u001b[0m\u001b[0m\n",
      "\u001b[0;32m/Users/futa/Documents/Interdiciplinary/pcode/wfdb/readwrite/downloads.py\u001b[0m in \u001b[0;36mstreamheader\u001b[0;34m(recordname, pbdir)\u001b[0m\n\u001b[1;32m     13\u001b[0m \u001b[0;34m\u001b[0m\u001b[0m\n\u001b[1;32m     14\u001b[0m     \u001b[0;31m# Raise HTTPError if invalid url\u001b[0m\u001b[0;34m\u001b[0m\u001b[0;34m\u001b[0m\u001b[0m\n\u001b[0;32m---> 15\u001b[0;31m     \u001b[0mr\u001b[0m\u001b[0;34m.\u001b[0m\u001b[0mraise_for_status\u001b[0m\u001b[0;34m(\u001b[0m\u001b[0;34m)\u001b[0m\u001b[0;34m\u001b[0m\u001b[0m\n\u001b[0m\u001b[1;32m     16\u001b[0m \u001b[0;34m\u001b[0m\u001b[0m\n\u001b[1;32m     17\u001b[0m     \u001b[0;31m# Get each line as a string\u001b[0m\u001b[0;34m\u001b[0m\u001b[0;34m\u001b[0m\u001b[0m\n",
      "\u001b[0;32m/Users/futa/anaconda/lib/python3.6/site-packages/requests/models.py\u001b[0m in \u001b[0;36mraise_for_status\u001b[0;34m(self)\u001b[0m\n\u001b[1;32m    926\u001b[0m \u001b[0;34m\u001b[0m\u001b[0m\n\u001b[1;32m    927\u001b[0m         \u001b[0;32mif\u001b[0m \u001b[0mhttp_error_msg\u001b[0m\u001b[0;34m:\u001b[0m\u001b[0;34m\u001b[0m\u001b[0m\n\u001b[0;32m--> 928\u001b[0;31m             \u001b[0;32mraise\u001b[0m \u001b[0mHTTPError\u001b[0m\u001b[0;34m(\u001b[0m\u001b[0mhttp_error_msg\u001b[0m\u001b[0;34m,\u001b[0m \u001b[0mresponse\u001b[0m\u001b[0;34m=\u001b[0m\u001b[0mself\u001b[0m\u001b[0;34m)\u001b[0m\u001b[0;34m\u001b[0m\u001b[0m\n\u001b[0m\u001b[1;32m    929\u001b[0m \u001b[0;34m\u001b[0m\u001b[0m\n\u001b[1;32m    930\u001b[0m     \u001b[0;32mdef\u001b[0m \u001b[0mclose\u001b[0m\u001b[0;34m(\u001b[0m\u001b[0mself\u001b[0m\u001b[0;34m)\u001b[0m\u001b[0;34m:\u001b[0m\u001b[0;34m\u001b[0m\u001b[0m\n",
      "\u001b[0;31mHTTPError\u001b[0m: 404 Client Error: Not Found for url: http://physionet.org/physiobank/database/sleep-edfx/SC4001E0-PSG.hea"
     ]
    }
   ],
   "source": [
    "# Demo 1 - Read a wfdb record using the 'rdsamp' function into a wfdb.Record object.\n",
    "# Plot the signals, and show the data.\n",
    "record = wfdb.rdsamp('sampledata/a103l') \n",
    "wfdb.plotrec(record, title='Record a103l from Physionet Challenge 2015') \n",
    "display(record.__dict__)\n",
    "\n",
    "\n",
    "# Can also read the same files hosted on Physiobank https://physionet.org/physiobank/database/\n",
    "# in the challenge/2015/training/ database subdirectory. Full url = https://physionet.org/physiobank/database/challenge/2015/training/\n",
    "record2 = wfdb.rdsamp('a103l', pbdir = 'challenge/2015/training/')\n"
   ]
  },
  {
   "cell_type": "code",
   "execution_count": 4,
   "metadata": {},
   "outputs": [
    {
     "data": {
      "text/plain": [
       "array([[ 0.0335, -0.167 , -0.237 ,  0.1165],\n",
       "       [ 0.0355, -0.1615, -0.2395,  0.119 ],\n",
       "       [ 0.0385, -0.168 , -0.2465,  0.116 ],\n",
       "       ..., \n",
       "       [-0.0445,  0.008 ,  0.033 ,  0.045 ],\n",
       "       [-0.044 ,  0.0175,  0.042 ,  0.052 ],\n",
       "       [-0.044 ,  0.0245,  0.0365,  0.05  ]])"
      ]
     },
     "metadata": {},
     "output_type": "display_data"
    },
    {
     "data": {
      "text/plain": [
       "{'comments': ['age: 81',\n",
       "  'sex: female',\n",
       "  'ECG date: 01/10/1990',\n",
       "  'Diagnose:',\n",
       "  'Reason for admission: Myocardial infarction',\n",
       "  'Acute infarction (localization): infero-latera',\n",
       "  'Former infarction (localization): no',\n",
       "  'Additional diagnoses: Diabetes mellitus',\n",
       "  'Smoker: no',\n",
       "  'Number of coronary vessels involved: 1',\n",
       "  'Infarction date (acute): 29-Sep-90',\n",
       "  'Previous infarction (1) date: n/a',\n",
       "  'Previous infarction (2) date: n/a',\n",
       "  'Hemodynamics:',\n",
       "  'Catheterization date: 16-Oct-90',\n",
       "  'Ventriculography: Akinesia inferior wall',\n",
       "  'Chest X-ray: Heart size upper limit of norm',\n",
       "  'Peripheral blood Pressure (syst/diast):  140/80 mmHg',\n",
       "  'Pulmonary artery pressure (at rest) (syst/diast): n/a',\n",
       "  'Pulmonary artery pressure (at rest) (mean): n/a',\n",
       "  'Pulmonary capillary wedge pressure (at rest): n/a',\n",
       "  'Cardiac output (at rest): n/a',\n",
       "  'Cardiac index (at rest): n/a',\n",
       "  'Stroke volume index (at rest): n/a',\n",
       "  'Pulmonary artery pressure (laod) (syst/diast): n/a',\n",
       "  'Pulmonary artery pressure (laod) (mean): n/a',\n",
       "  'Pulmonary capillary wedge pressure (load): n/a',\n",
       "  'Cardiac output (load): n/a',\n",
       "  'Cardiac index (load): n/a',\n",
       "  'Stroke volume index (load): n/a',\n",
       "  'Aorta (at rest) (syst/diast): 160/64 cmH2O',\n",
       "  'Aorta (at rest) mean: 106 cmH2O',\n",
       "  'Left ventricular enddiastolic pressure: 11 cmH2O',\n",
       "  'Left coronary artery stenoses (RIVA): RIVA 70% proximal to ramus diagonalis_2',\n",
       "  'Left coronary artery stenoses (RCX): No stenoses',\n",
       "  'Right coronary artery stenoses (RCA): No stenoses',\n",
       "  'Echocardiography: n/a',\n",
       "  'Therapy:',\n",
       "  'Infarction date: 29-Sep-90',\n",
       "  'Catheterization date: 16-Oct-90',\n",
       "  'Admission date: 29-Sep-90',\n",
       "  'Medication pre admission: Isosorbit-Dinitrate Digoxin Glibenclamide',\n",
       "  'Start lysis therapy (hh.mm): 19:45',\n",
       "  'Lytic agent: Gamma-TPA',\n",
       "  'Dosage (lytic agent): 30 mg',\n",
       "  'Additional medication: Heparin Isosorbit-Mononitrate ASA Diazepam',\n",
       "  'In hospital medication: ASA Isosorbit-Mononitrate Ca-antagonist Amiloride+Chlorothiazide Glibenclamide Insulin',\n",
       "  'Medication after discharge: ASA Isosorbit-Mononitrate Amiloride+Chlorothiazide Glibenclamide'],\n",
       " 'fs': 1000,\n",
       " 'signame': ['vz', 'i', 'avf', 'v5'],\n",
       " 'units': ['mV', 'mV', 'mV', 'mV']}"
      ]
     },
     "metadata": {},
     "output_type": "display_data"
    }
   ],
   "source": [
    "# Demo 2 - Read certain channels and sections of the WFDB record using the simplified 'srdsamp' function\n",
    "# which returns a numpy array and a dictionary. Show the data.\n",
    "signals, fields=wfdb.srdsamp('sampledata/s0010_re', channels=[14, 0, 5, 10], sampfrom=100, sampto=15000)\n",
    "display(signals)\n",
    "display(fields)\n",
    "\n",
    "# Can also read the same files hosted on Physiobank \n",
    "signals2, fields2=wfdb.srdsamp('s0010_re', channels=[14, 0, 5, 10], sampfrom=100, sampto=15000, pbdir = 'ptbdb/patient001/')"
   ]
  },
  {
   "cell_type": "code",
   "execution_count": 5,
   "metadata": {},
   "outputs": [
    {
     "data": {
      "text/plain": [
       "{'adcgain': [1000.0, 1000.0, 1.0001, 100.0, 500.0],\n",
       " 'adcres': [16, 16, 16, 16, 16],\n",
       " 'adczero': [0, 0, 0, 0, 0],\n",
       " 'basecounter': None,\n",
       " 'basedate': None,\n",
       " 'baseline': [0, 0, 0, 0, 0],\n",
       " 'basetime': None,\n",
       " 'blocksize': [0, 0, 0, 0, 0],\n",
       " 'byteoffset': [None, None, None, None, None],\n",
       " 'checksum': [14736, 13501, -19070, -9226, -14191],\n",
       " 'comments': [],\n",
       " 'counterfreq': None,\n",
       " 'd_signals': None,\n",
       " 'e_d_signals': None,\n",
       " 'e_p_signals': None,\n",
       " 'filename': ['drive02.dat',\n",
       "  'drive02.dat',\n",
       "  'drive02.dat',\n",
       "  'drive02.dat',\n",
       "  'drive02.dat'],\n",
       " 'fmt': ['16', '16', '16', '16', '16'],\n",
       " 'fs': 15.5,\n",
       " 'initvalue': [-1236, 1802, 75, 0, 5804],\n",
       " 'nsig': 5,\n",
       " 'p_signals': None,\n",
       " 'recordname': 'drive02',\n",
       " 'sampsperframe': [32, 2, 1, 1, 2],\n",
       " 'siglen': 78056,\n",
       " 'signame': ['ECG', 'foot GSR', 'HR', 'marker', 'RESP'],\n",
       " 'skew': [None, None, None, None, None],\n",
       " 'units': ['mV', 'mV', 'bpm', 'mV', 'mV']}"
      ]
     },
     "metadata": {},
     "output_type": "display_data"
    }
   ],
   "source": [
    "# Demo 3 - Read a WFDB header file only (without the signals)\n",
    "record = wfdb.rdheader('sampledata/drive02')\n",
    "display(record.__dict__)\n",
    "\n",
    "# Can also read the same file hosted on Physiobank\n",
    "record2 = wfdb.rdheader('drive02', pbdir = 'drivedb')"
   ]
  },
  {
   "cell_type": "code",
   "execution_count": 6,
   "metadata": {},
   "outputs": [
    {
     "data": {
      "image/png": "[encoded data removed]",
      "text/plain": [
       "<matplotlib.figure.Figure at 0x10f4a7cf8>"
      ]
     },
     "metadata": {},
     "output_type": "display_data"
    }
   ],
   "source": [
    "# Demo 4 - Read part of a WFDB annotation file into a wfdb.Annotation object, and plot the samples\n",
    "annotation = wfdb.rdann('sampledata/100', 'atr', sampfrom = 100000, sampto = 110000)\n",
    "annotation.fs = 360\n",
    "wfdb.plotann(annotation, timeunits = 'minutes')\n",
    "\n",
    "# Can also read the same file hosted on PhysioBank \n",
    "annotation2 = wfdb.rdann('100', 'atr', sampfrom = 100000, sampto = 110000, pbdir = 'mitdb')"
   ]
  },
  {
   "cell_type": "code",
   "execution_count": 7,
   "metadata": {},
   "outputs": [
    {
     "data": {
      "image/png": "[encoded data removed]",
      "text/plain": [
       "<matplotlib.figure.Figure at 0x111b23710>"
      ]
     },
     "metadata": {},
     "output_type": "display_data"
    }
   ],
   "source": [
    "# Demo 5 - Read a WFDB record and annotation. Plot all channels, and the annotation on top of channel 0.\n",
    "record = wfdb.rdsamp('sampledata/100', sampto = 15000)\n",
    "annotation = wfdb.rdann('sampledata/100', 'atr', sampto = 15000)\n",
    "\n",
    "wfdb.plotrec(record, annotation = annotation, title='Record 100 from MIT-BIH Arrhythmia Database', timeunits = 'seconds')"
   ]
  },
  {
   "cell_type": "markdown",
   "metadata": {},
   "source": [
    "### Multisegment waveform examples\n",
    "\n",
    "The following sections load and plots waveforms from the MIMIC matched waveform database. These waveforms have been matched to clinical data in the MIMIC Clinical database. The input records are multi-segment (made up of multiple individual WFDB records) and relatively long.\n",
    "\n",
    "Note that these kinds of records contain segments in which certain channels are missing. <strong>matplotlib</strong> automatically zooms in on sections without Nans in individual channels but the entire durations of the signals input into <strong>plotrec</strong> are actually plotted. \n",
    "\n"
   ]
  },
  {
   "cell_type": "code",
   "execution_count": 8,
   "metadata": {},
   "outputs": [
    {
     "data": {
      "image/png": "[encoded data removed]",
      "text/plain": [
       "<matplotlib.figure.Figure at 0x106127a58>"
      ]
     },
     "metadata": {},
     "output_type": "display_data"
    },
    {
     "data": {
      "text/plain": [
       "{'adcgain': None,\n",
       " 'adcres': None,\n",
       " 'adczero': None,\n",
       " 'basecounter': None,\n",
       " 'basedate': '04/05/2704',\n",
       " 'baseline': None,\n",
       " 'basetime': '10:44:18.529',\n",
       " 'blocksize': None,\n",
       " 'byteoffset': None,\n",
       " 'checksum': None,\n",
       " 'comments': ['<age>: ?? <sex>: ?'],\n",
       " 'counterfreq': None,\n",
       " 'd_signals': None,\n",
       " 'e_d_signals': None,\n",
       " 'e_p_signals': None,\n",
       " 'filename': None,\n",
       " 'fmt': None,\n",
       " 'fs': 125,\n",
       " 'initvalue': None,\n",
       " 'layout': 'Variable',\n",
       " 'nsig': 3,\n",
       " 'p_signals': array([[         nan,          nan,          nan],\n",
       "        [         nan,          nan,          nan],\n",
       "        [         nan,          nan,          nan],\n",
       "        ..., \n",
       "        [ -0.02469136,   0.        , -17.6       ],\n",
       "        [  0.04938272,   0.03333333, -17.6       ],\n",
       "        [  0.02469136,   0.        , -17.6       ]]),\n",
       " 'recordname': 's25047-2704-05-04-10-44',\n",
       " 'sampsperframe': None,\n",
       " 'siglen': 543240,\n",
       " 'signame': ['II', 'V', 'ABP'],\n",
       " 'sigsegments': None,\n",
       " 'skew': None,\n",
       " 'units': ['mV', 'mV', 'mmHg']}"
      ]
     },
     "metadata": {},
     "output_type": "display_data"
    }
   ],
   "source": [
    "# Demo 6 - Read the multi-segment record and plot waveforms from the MIMIC matched waveform database. \n",
    "import wfdb\n",
    "from IPython.display import display\n",
    "record=wfdb.rdsamp('sampledata/multisegment/s25047/s25047-2704-05-04-10-44')\n",
    "wfdb.plotrec(record, title='Record s25047-2704-05-04-10-44') \n",
    "display(record.__dict__)\n",
    "\n",
    "# Can also read the same files hosted on PhysioBank (takes long to stream the many large files)\n",
    "#record2 = wfdb.rdsamp('s25047-2704-05-04-10-44', pbdir = 'mimic2wdb/matched/s25047')"
   ]
  },
  {
   "cell_type": "code",
   "execution_count": 9,
   "metadata": {},
   "outputs": [
    {
     "data": {
      "image/png": "[encoded data removed]",
      "text/plain": [
       "<matplotlib.figure.Figure at 0x115c0d3c8>"
      ]
     },
     "metadata": {},
     "output_type": "display_data"
    },
    {
     "data": {
      "text/plain": [
       "{'adcgain': None,\n",
       " 'adcres': None,\n",
       " 'adczero': None,\n",
       " 'basecounter': None,\n",
       " 'basedate': '10/10/2896',\n",
       " 'baseline': None,\n",
       " 'basetime': '00:31:25.894',\n",
       " 'blocksize': None,\n",
       " 'byteoffset': None,\n",
       " 'checksum': None,\n",
       " 'comments': ['<age>: 60 <sex>: F'],\n",
       " 'counterfreq': None,\n",
       " 'd_signals': None,\n",
       " 'e_d_signals': None,\n",
       " 'e_p_signals': None,\n",
       " 'filename': None,\n",
       " 'fmt': None,\n",
       " 'fs': 125,\n",
       " 'initvalue': None,\n",
       " 'layout': 'Variable',\n",
       " 'nsig': 4,\n",
       " 'p_signals': array([[        nan,  0.        ,  0.04918033,         nan],\n",
       "        [        nan,  0.        ,  0.03278689,         nan],\n",
       "        [        nan,  0.        ,  0.00819672,         nan],\n",
       "        ..., \n",
       "        [        nan,  0.        ,  0.03278689,         nan],\n",
       "        [        nan,  0.        ,  0.03278689,         nan],\n",
       "        [        nan,  0.        ,  0.04918033,         nan]]),\n",
       " 'recordname': 's00001-2896-10-10-00-31',\n",
       " 'sampsperframe': None,\n",
       " 'siglen': 1000000,\n",
       " 'signame': ['II', 'V', 'MCL1', 'ABP'],\n",
       " 'sigsegments': None,\n",
       " 'skew': None,\n",
       " 'units': ['mV', 'mV', 'mV', 'mmHg']}"
      ]
     },
     "metadata": {},
     "output_type": "display_data"
    }
   ],
   "source": [
    "# Demo 7 - Read the multi-segment record and plot waveforms from the MIMIC matched waveform database.\n",
    "# Notice that some channels have no valid values to plot\n",
    "record = wfdb.rdsamp('sampledata/multisegment/s00001/s00001-2896-10-10-00-31', sampfrom = 3000000, sampto = 4000000)\n",
    "wfdb.plotrec(record, title='Record s00001/s00001-2896-10-10-00-31') \n",
    "display(record.__dict__)\n",
    "\n",
    "# Can also read the same files hosted on PhysioBank\n",
    "record2 = wfdb.rdsamp('s00001-2896-10-10-00-31', sampfrom = 3000000, sampto = 4000000, pbdir = 'mimic2wdb/matched/s00001')"
   ]
  },
  {
   "cell_type": "markdown",
   "metadata": {},
   "source": [
    "### Multiple sample/frame examples\n",
    "\n",
    "Although there can only be one base sampling frequency per record, a single wfdb record can store multiple channels with different sampling frequencies, as long as their sampling frequencies can all be expressed by an integer multiple of a base value. This is done by using the `sampsperframe` attribute in each channel, which indicates the number of samples of each channel present in each frame.\n",
    "\n",
    "ie: To capture three signals with `fs = 120, 240, and 360 Hz` in a single record, they can be combined into a record with `fs = 120` and `sampsperframe = [1, 2, 3]`.\n",
    "\n",
    "#### Reading Options\n",
    "\n",
    "This package allows signals in records with multiple samples/frame to be read in two ways:\n",
    "1. smoothed - An uniform mxn numpy is returned as the d_signals or p_signals field. Channels with multiple samples/frame have their values averaged within each frame. This is like the behaviour of the `rdsamp` function of the original WFDB c package. Note that `wfdb.plotrec` only works if the record object has the `p_signals` field.\n",
    "2. expanded - A list of 1d numpy arrays is returned as the e_d_signals or e_p_signals field. All samples for each channel are returned in its respective numpy array. The arrays may have different lengths depending on their `sampsperframe` values. \n",
    "\n",
    "Set the `smoothframes` *(default=True)* option in `rdsamp` to return the desired signal type."
   ]
  },
  {
   "cell_type": "code",
   "execution_count": 10,
   "metadata": {},
   "outputs": [
    {
     "data": {
      "image/png": "[encoded data removed]",
      "text/plain": [
       "<matplotlib.figure.Figure at 0x10befd5f8>"
      ]
     },
     "metadata": {},
     "output_type": "display_data"
    }
   ],
   "source": [
    "# Demo 8 - Read a wfdb record in which one channel has multiple samples/frame. Return a smoothed uniform array.\n",
    "record = wfdb.rdsamp('sampledata/test01_00s_frame')\n",
    "wfdb.plotrec(record)"
   ]
  },
  {
   "cell_type": "code",
   "execution_count": 11,
   "metadata": {},
   "outputs": [
    {
     "data": {
      "text/plain": [
       "[array([ 0.1 ,  0.11,  0.13, ..., -0.27, -0.27, -0.26]),\n",
       " array([-0.08, -0.57, -0.06, ...,  0.13, -0.18,  0.12]),\n",
       " array([-0.66, -0.66, -0.67, ...,  0.15,  0.15,  0.16])]"
      ]
     },
     "metadata": {},
     "output_type": "display_data"
    },
    {
     "name": "stdout",
     "output_type": "stream",
     "text": [
      "[4000, 8000, 4000]\n"
     ]
    }
   ],
   "source": [
    "# Demo 9 - Read a wfdb record in which one channel has multiple samples/frame. Return a list of all the expanded samples.\n",
    "record = wfdb.rdsamp('sampledata/test01_00s_frame', smoothframes = False)\n",
    "\n",
    "display(record.e_p_signals)\n",
    "# Show that different channels have different lengths. Channel 1 has 2 samples/frame, hence has 2x as many samples.\n",
    "print([len(s) for s in record.e_p_signals])\n",
    "\n",
    "# wfdb.plotrec doesn't work because the Record object is missing its p_signals field."
   ]
  },
  {
   "cell_type": "markdown",
   "metadata": {},
   "source": [
    "## Writing Records and Annotations"
   ]
  },
  {
   "cell_type": "code",
   "execution_count": 12,
   "metadata": {
    "collapsed": true
   },
   "outputs": [],
   "source": [
    "# Demo 10 - Read a WFDB record's digital samples and create a copy via the wrsamp() instance method \n",
    "# of the Record object.\n",
    "\n",
    "# Read a record as a Record object.\n",
    "record = wfdb.rdsamp('sampledata/100', physical = False)\n",
    "record.recordname = '100x'\n",
    "\n",
    "# Call the instance method of the object\n",
    "record.wrsamp()\n",
    "\n",
    "# The new file can be read\n",
    "recordx = wfdb.rdsamp('100x')"
   ]
  },
  {
   "cell_type": "code",
   "execution_count": 13,
   "metadata": {
    "collapsed": true
   },
   "outputs": [],
   "source": [
    "# Demo 11 - Write a WFDB record without using a Record object via the gateway wrsamp function.\n",
    "# This is the basic way to write physical signals to a WFDB file. \n",
    "\n",
    "# Read part of a record from Physiobank\n",
    "sig, fields = wfdb.srdsamp('a103l', sampfrom = 50000, channels = [0,1], pbdir = 'challenge/2015/training')\n",
    "\n",
    "# Call the gateway wrsamp function, manually inserting fields as function input parameters\n",
    "wfdb.wrsamp('ecgrecord', fs = 250, units = ['mV', 'mV'], signames = ['I', 'II'], p_signals = sig, fmt = ['16', '16'])\n",
    "\n",
    "# The new file can be read\n",
    "recordecg = wfdb.rdsamp('ecgrecord')"
   ]
  },
  {
   "cell_type": "code",
   "execution_count": 14,
   "metadata": {
    "collapsed": true
   },
   "outputs": [],
   "source": [
    "# Demo 12 - Write a WFDB record with multiple samples/frame in a channel\n",
    "\n",
    "# Read a record as a Record object.\n",
    "record = wfdb.rdsamp('sampledata/test01_00s_frame', physical = False, smoothframes=False)\n",
    "record.recordname = 'test01_00s_framex'\n",
    "\n",
    "# Call the instance method of the object with expanded=True to write the record using the e_d_signals field\n",
    "record.wrsamp(expanded=True)\n",
    "\n",
    "# The new file can be read\n",
    "recordx = wfdb.rdsamp('test01_00s_framex')"
   ]
  },
  {
   "cell_type": "code",
   "execution_count": 15,
   "metadata": {},
   "outputs": [
    {
     "ename": "FileNotFoundError",
     "evalue": "[Errno 2] No such file or directory: '100.cpy'",
     "output_type": "error",
     "traceback": [
      "\u001b[0;31m---------------------------------------------------------------------------\u001b[0m",
      "\u001b[0;31mFileNotFoundError\u001b[0m                         Traceback (most recent call last)",
      "\u001b[0;32m<ipython-input-15-50e8f790cdb9>\u001b[0m in \u001b[0;36m<module>\u001b[0;34m()\u001b[0m\n\u001b[1;32m     10\u001b[0m \u001b[0;34m\u001b[0m\u001b[0m\n\u001b[1;32m     11\u001b[0m \u001b[0;31m# The new file can be read\u001b[0m\u001b[0;34m\u001b[0m\u001b[0;34m\u001b[0m\u001b[0m\n\u001b[0;32m---> 12\u001b[0;31m \u001b[0mann100copy\u001b[0m \u001b[0;34m=\u001b[0m \u001b[0mwfdb\u001b[0m\u001b[0;34m.\u001b[0m\u001b[0mrdann\u001b[0m\u001b[0;34m(\u001b[0m\u001b[0;34m'100'\u001b[0m\u001b[0;34m,\u001b[0m \u001b[0;34m'cpy'\u001b[0m\u001b[0;34m)\u001b[0m\u001b[0;34m\u001b[0m\u001b[0m\n\u001b[0m",
      "\u001b[0;32m/Users/futa/Documents/Interdiciplinary/pcode/wfdb/readwrite/annotations.py\u001b[0m in \u001b[0;36mrdann\u001b[0;34m(recordname, extension, sampfrom, sampto, shiftsamps, pbdir, return_label_elements, summarize_labels)\u001b[0m\n\u001b[1;32m   1131\u001b[0m \u001b[0;34m\u001b[0m\u001b[0m\n\u001b[1;32m   1132\u001b[0m     \u001b[0;31m# Read the file in byte pairs\u001b[0m\u001b[0;34m\u001b[0m\u001b[0;34m\u001b[0m\u001b[0m\n\u001b[0;32m-> 1133\u001b[0;31m     \u001b[0mfilebytes\u001b[0m \u001b[0;34m=\u001b[0m \u001b[0mload_byte_pairs\u001b[0m\u001b[0;34m(\u001b[0m\u001b[0mrecordname\u001b[0m\u001b[0;34m,\u001b[0m \u001b[0mextension\u001b[0m\u001b[0;34m,\u001b[0m \u001b[0mpbdir\u001b[0m\u001b[0;34m)\u001b[0m\u001b[0;34m\u001b[0m\u001b[0m\n\u001b[0m\u001b[1;32m   1134\u001b[0m \u001b[0;34m\u001b[0m\u001b[0m\n\u001b[1;32m   1135\u001b[0m     \u001b[0;31m# Get wfdb annotation fields from the file bytes\u001b[0m\u001b[0;34m\u001b[0m\u001b[0;34m\u001b[0m\u001b[0m\n",
      "\u001b[0;32m/Users/futa/Documents/Interdiciplinary/pcode/wfdb/readwrite/annotations.py\u001b[0m in \u001b[0;36mload_byte_pairs\u001b[0;34m(recordname, extension, pbdir)\u001b[0m\n\u001b[1;32m   1196\u001b[0m     \u001b[0;31m# local file\u001b[0m\u001b[0;34m\u001b[0m\u001b[0;34m\u001b[0m\u001b[0m\n\u001b[1;32m   1197\u001b[0m     \u001b[0;32mif\u001b[0m \u001b[0mpbdir\u001b[0m \u001b[0;32mis\u001b[0m \u001b[0;32mNone\u001b[0m\u001b[0;34m:\u001b[0m\u001b[0;34m\u001b[0m\u001b[0m\n\u001b[0;32m-> 1198\u001b[0;31m         \u001b[0;32mwith\u001b[0m \u001b[0mopen\u001b[0m\u001b[0;34m(\u001b[0m\u001b[0mrecordname\u001b[0m \u001b[0;34m+\u001b[0m \u001b[0;34m'.'\u001b[0m \u001b[0;34m+\u001b[0m \u001b[0mextension\u001b[0m\u001b[0;34m,\u001b[0m \u001b[0;34m'rb'\u001b[0m\u001b[0;34m)\u001b[0m \u001b[0;32mas\u001b[0m \u001b[0mf\u001b[0m\u001b[0;34m:\u001b[0m\u001b[0;34m\u001b[0m\u001b[0m\n\u001b[0m\u001b[1;32m   1199\u001b[0m             \u001b[0mfilebytes\u001b[0m \u001b[0;34m=\u001b[0m \u001b[0mnp\u001b[0m\u001b[0;34m.\u001b[0m\u001b[0mfromfile\u001b[0m\u001b[0;34m(\u001b[0m\u001b[0mf\u001b[0m\u001b[0;34m,\u001b[0m \u001b[0;34m'<u1'\u001b[0m\u001b[0;34m)\u001b[0m\u001b[0;34m.\u001b[0m\u001b[0mreshape\u001b[0m\u001b[0;34m(\u001b[0m\u001b[0;34m[\u001b[0m\u001b[0;34m-\u001b[0m\u001b[0;36m1\u001b[0m\u001b[0;34m,\u001b[0m \u001b[0;36m2\u001b[0m\u001b[0;34m]\u001b[0m\u001b[0;34m)\u001b[0m\u001b[0;34m\u001b[0m\u001b[0m\n\u001b[1;32m   1200\u001b[0m     \u001b[0;31m# physiobank file\u001b[0m\u001b[0;34m\u001b[0m\u001b[0;34m\u001b[0m\u001b[0m\n",
      "\u001b[0;31mFileNotFoundError\u001b[0m: [Errno 2] No such file or directory: '100.cpy'"
     ]
    }
   ],
   "source": [
    "# Demo 13 - Read a WFDB annotation file and create a copy via the wrann() instance method\n",
    "# of the Annotation object\n",
    "\n",
    "# Read an annotation from Physiobank\n",
    "annotation = wfdb.rdann('sampledata/100', 'atr')\n",
    "annotation.annotator = 'cpy'\n",
    "\n",
    "# Call the instance method of the object\n",
    "annotation.wrann()\n",
    "\n",
    "# The new file can be read\n",
    "ann100copy = wfdb.rdann('100', 'cpy')"
   ]
  },
  {
   "cell_type": "code",
   "execution_count": 16,
   "metadata": {},
   "outputs": [
    {
     "ename": "AttributeError",
     "evalue": "'Annotation' object has no attribute 'anntype'",
     "output_type": "error",
     "traceback": [
      "\u001b[0;31m---------------------------------------------------------------------------\u001b[0m",
      "\u001b[0;31mAttributeError\u001b[0m                            Traceback (most recent call last)",
      "\u001b[0;32m<ipython-input-16-03b9a9b72f9b>\u001b[0m in \u001b[0;36m<module>\u001b[0;34m()\u001b[0m\n\u001b[1;32m      5\u001b[0m \u001b[0;34m\u001b[0m\u001b[0m\n\u001b[1;32m      6\u001b[0m \u001b[0;31m# Call the gateway wrann function, manually inserting fields as function input parameters\u001b[0m\u001b[0;34m\u001b[0m\u001b[0;34m\u001b[0m\u001b[0m\n\u001b[0;32m----> 7\u001b[0;31m \u001b[0mwfdb\u001b[0m\u001b[0;34m.\u001b[0m\u001b[0mwrann\u001b[0m\u001b[0;34m(\u001b[0m\u001b[0;34m'b001'\u001b[0m\u001b[0;34m,\u001b[0m \u001b[0;34m'cpy'\u001b[0m\u001b[0;34m,\u001b[0m \u001b[0mannotation\u001b[0m\u001b[0;34m.\u001b[0m\u001b[0msample\u001b[0m\u001b[0;34m,\u001b[0m \u001b[0mannotation\u001b[0m\u001b[0;34m.\u001b[0m\u001b[0manntype\u001b[0m\u001b[0;34m)\u001b[0m\u001b[0;34m\u001b[0m\u001b[0m\n\u001b[0m\u001b[1;32m      8\u001b[0m \u001b[0;34m\u001b[0m\u001b[0m\n\u001b[1;32m      9\u001b[0m \u001b[0;31m# The new file can be read\u001b[0m\u001b[0;34m\u001b[0m\u001b[0;34m\u001b[0m\u001b[0m\n",
      "\u001b[0;31mAttributeError\u001b[0m: 'Annotation' object has no attribute 'anntype'"
     ]
    }
   ],
   "source": [
    "# Demo 14 - Write a WFDB annotation file without using an Annotator object via the gateway wrann function.\n",
    "\n",
    "# Read an annotation as an Annotation object\n",
    "annotation = wfdb.rdann('b001', 'atr', pbdir='cebsdb')\n",
    "\n",
    "# Call the gateway wrann function, manually inserting fields as function input parameters\n",
    "wfdb.wrann('b001', 'cpy', annotation.sample, annotation.anntype)\n",
    "\n",
    "# The new file can be read\n",
    "annbcopy = wfdb.rdann('b001', 'cpy')"
   ]
  },
  {
   "cell_type": "code",
   "execution_count": null,
   "metadata": {
    "collapsed": true
   },
   "outputs": [],
   "source": [
    "# Demo 15 - View what the 'anntype' symbols mean in the standard WFDB library\n",
    "wfdb.showanncodes()"
   ]
  },
  {
   "cell_type": "markdown",
   "metadata": {},
   "source": [
    "## Downloading Content from Physiobank\n",
    "\n",
    "- The downloads are made via http\n",
    "- See the above demos for examples on streaming WFDB files stored in Physiobank without downloading them to local disk\n",
    "- Physionet has rsync modules for downloading entire databases for users who have access to rsync.  "
   ]
  },
  {
   "cell_type": "code",
   "execution_count": 17,
   "metadata": {},
   "outputs": [
    {
     "data": {
      "text/plain": [
       "[['aami-ec13', 'ANSI/AAMI EC13 Test Waveforms'],\n",
       " ['adfecgdb', 'Abdominal and Direct Fetal ECG Database'],\n",
       " ['afdb', 'MIT-BIH Atrial Fibrillation Database'],\n",
       " ['afpdb', 'PAF Prediction Challenge Database'],\n",
       " ['aftdb', 'AF Termination Challenge Database'],\n",
       " ['ahadb', 'AHA Database [sample excluded record]'],\n",
       " ['apnea-ecg', 'Apnea-ECG Database'],\n",
       " ['bpssrat', 'Blood Pressure in Salt-Sensitive Dahl Rats'],\n",
       " ['capslpdb', 'CAP Sleep Database'],\n",
       " ['cdb', 'MIT-BIH ECG Compression Test Database'],\n",
       " ['cebsdb', 'Combined measurement of ECG, Breathing and Seismocardiograms'],\n",
       " ['challenge/2009/test-set-a', 'Challenge 2009 Test Set A'],\n",
       " ['challenge/2009/test-set-b', 'Challenge 2009 Test Set B'],\n",
       " ['challenge/2010/set-a', 'Challenge 2010 Training Set A'],\n",
       " ['challenge/2010/set-b', 'Challenge 2010 Test Set B'],\n",
       " ['challenge/2010/set-c', 'Challenge 2010 Test Set C'],\n",
       " ['challenge/2011/set-a', 'Challenge 2011 Training Set A'],\n",
       " ['challenge/2011/set-b', 'Challenge 2011 Test Set B'],\n",
       " ['challenge/2011/sim', 'Challenge 2011 Pilot Set'],\n",
       " ['challenge/2013/set-a', 'Challenge 2013 Training Set A'],\n",
       " ['challenge/2013/set-b', 'Challenge 2013 Test Set B'],\n",
       " ['challenge/2014/set-p', 'Challenge 2014 Training Set'],\n",
       " ['challenge/2014/set-p2', 'Challenge 2014 Extended Training Set'],\n",
       " ['challenge/2015/training', 'Challenge 2015 Training Set'],\n",
       " ['challenge/2016/training-a', 'Challenge 2016 Training Set A'],\n",
       " ['challenge/2016/training-b', 'Challenge 2016 Training Set B'],\n",
       " ['challenge/2016/training-c', 'Challenge 2016 Training Set C'],\n",
       " ['challenge/2016/training-d', 'Challenge 2016 Training Set D'],\n",
       " ['challenge/2016/training-e', 'Challenge 2016 Training Set E'],\n",
       " ['challenge/2016/training-f', 'Challenge 2016 Training Set F'],\n",
       " ['challenge/2017/training', 'Challenge 2017 Training Set'],\n",
       " ['charisdb', 'CHARIS database'],\n",
       " ['chbmit', 'CHB-MIT Scalp EEG Database'],\n",
       " ['chf2db', 'Congestive Heart Failure RR Interval Database'],\n",
       " ['chfdb', 'BIDMC Congestive Heart Failure Database'],\n",
       " ['crisdb', 'CAST RR Interval Sub-Study Database'],\n",
       " ['ctu-uhb-ctgdb', 'CTU-CHB Intrapartum Cardiotocography Database'],\n",
       " ['cudb', 'CU Ventricular Tachyarrhythmia Database'],\n",
       " ['drivedb', 'Stress Recognition in Automobile Drivers'],\n",
       " ['earh', 'Evoked Auditory Responses in Heading Impaired'],\n",
       " ['earndb', 'Evoked Auditory Responses in Normals'],\n",
       " ['ecgdmmld',\n",
       "  'ECG Effects of Dofetilide, Moxifloxacin, Dofetilide+Mexiletine, Dofetilide+Lidocaine and Moxifloxacin+Diltiazem'],\n",
       " ['ecgiddb', 'ECG-ID Database'],\n",
       " ['ecgrdvq',\n",
       "  'ECG Effects of Ranolazine, Dofetilide, Verapamil, and Quinidine'],\n",
       " ['edb', 'European ST-T Database'],\n",
       " ['eegmmidb', 'EEG Motor Movement/Imagery Dataset'],\n",
       " ['ehgdb', 'Icelandic 16-electrode Electrohysterogram Database'],\n",
       " ['emgdb', 'Examples of Electromyograms'],\n",
       " ['erpbci', 'ERP-based Brain-Computer Interface recordings'],\n",
       " ['excluded', '... [Recordings excluded from the NSR DB]'],\n",
       " ['fantasia', 'Fantasia Database'],\n",
       " ['fecgsyndb', 'Fetal ECG Synthetic Database'],\n",
       " ['fpcgdb', 'Fetal PCG Database'],\n",
       " ['gait-maturation-db/data', 'Gait Maturation Database'],\n",
       " ['gaitdb', 'Gait in Aging and Disease Database'],\n",
       " ['gaitndd', 'Gait in Neurodegenerative Disease Database'],\n",
       " ['hbedb', 'Human Balance Evaluation Database'],\n",
       " ['iafdb', 'Intracardiac Atrial Fibrillation Database'],\n",
       " ['incartdb', 'St Petersburg INCART 12-lead Arrhythmia Database'],\n",
       " ['ltafdb', 'Long Term AF Database'],\n",
       " ['ltdb', 'MIT-BIH Long-Term ECG Database'],\n",
       " ['ltrsvp', 'EEG Signals from an RSVP Task'],\n",
       " ['ltstdb', 'Long Term ST Database'],\n",
       " ['macecgdb', 'Motion Artifact Contaminated ECG Database'],\n",
       " ['meditation/data', 'Heart Rate Oscillations during Meditation'],\n",
       " ['mghdb', 'MGH/MF Waveform Database'],\n",
       " ['mimic2cdb', 'MIMIC II Clinical Database Public Subset'],\n",
       " ['mimic2db', 'MIMIC II Waveform DB, v2 [deprecated, use v3]'],\n",
       " ['mimic2db/numerics',\n",
       "  'MIMIC II Waveform DB, v2 Numerics [deprecated, use v3]'],\n",
       " ['mimic2wdb/30', 'MIMIC II/III Waveform Database, part 0'],\n",
       " ['mimic2wdb/31', 'MIMIC II/III Waveform Database, part 1'],\n",
       " ['mimic2wdb/32', 'MIMIC II/III Waveform Database, part 2'],\n",
       " ['mimic2wdb/33', 'MIMIC II/III Waveform Database, part 3'],\n",
       " ['mimic2wdb/34', 'MIMIC II/III Waveform Database, part 4'],\n",
       " ['mimic2wdb/35', 'MIMIC II/III Waveform Database, part 5'],\n",
       " ['mimic2wdb/36', 'MIMIC II/III Waveform Database, part 6'],\n",
       " ['mimic2wdb/37', 'MIMIC II/III Waveform Database, part 7'],\n",
       " ['mimic2wdb/38', 'MIMIC II/III Waveform Database, part 8'],\n",
       " ['mimic2wdb/39', 'MIMIC II/III Waveform Database, part 9'],\n",
       " ['mimic2wdb/matched', 'MIMIC II Waveform Database Matched Subset'],\n",
       " ['mimic3wdb/matched', 'MIMIC III Waveform Database Matched Subset'],\n",
       " ['mimicdb', 'MIMIC Database'],\n",
       " ['mimicdb/numerics', 'MIMIC Database Numerics'],\n",
       " ['mitdb', 'MIT-BIH Arrhythmia Database'],\n",
       " ['mmgdb', 'MMG Database'],\n",
       " ['motion-artifact', 'Motion Artifact Contaminated fNIRS and EEG Data'],\n",
       " ['mssvepdb', 'MAMEM SSVEP Database'],\n",
       " ['mvtdb/data', 'Spontaneous Ventricular Tachyarrhythmia Database'],\n",
       " ['nifecgdb', 'Non-Invasive Fetal ECG Database'],\n",
       " ['noneeg', 'A Non-EEG Dataset for Assessment of Neurological Status'],\n",
       " ['nqmitcsxpd', 'neuroQWERTY MIT-CSXPD Dataset'],\n",
       " ['nsr2db', 'Normal Sinus Rhythm RR Interval Database'],\n",
       " ['nsrdb', 'MIT-BIH Normal Sinus Rhythm Database'],\n",
       " ['nstdb', 'MIT-BIH Noise Stress Test Database'],\n",
       " ['ob1db', 'OB-1 Fetal ECG Database [sample record]'],\n",
       " ['osv', 'Pattern Analysis of Oxygen Saturation Variability'],\n",
       " ['picsdb', 'Preterm Infant Cardio-Respiratory Signals Database'],\n",
       " ['pmd', 'A Pressure Map Dataset for In-bed Posture Classification'],\n",
       " ['prcp', 'Physiologic Response to Changes in Posture'],\n",
       " ['ptbdb', 'PTB Diagnostic ECG Database'],\n",
       " ['qde', 'Quantitative Dehydration Estimation'],\n",
       " ['qtdb', 'QT Database'],\n",
       " ['sddb', 'Sudden Cardiac Death Holter Database'],\n",
       " ['sgamp', 'Squid Giant Axon Membrane Potential'],\n",
       " ['shareedb',\n",
       "  'Smart Health for Assessing the Risk of Events via ECG Database'],\n",
       " ['shhpsgdb', 'Sleep Heart Health Study PSG Database [sample record]'],\n",
       " ['simfpcgdb', 'Simulated Fetal Phonocardiograms'],\n",
       " ['sleep-edf', 'Sleep-EDF Database, v1 [deprecated, use sleep-edfx]'],\n",
       " ['sleep-edfx', 'Sleep-EDF Database [Expanded]'],\n",
       " ['slpdb', 'MIT-BIH Polysomnographic Database'],\n",
       " ['staffiii', 'STAFF III Database'],\n",
       " ['stdb', 'MIT-BIH ST Change Database'],\n",
       " ['sufhsdb', 'Shiraz University Fetal Heart Sounds Database'],\n",
       " ['svdb', 'MIT-BIH Supraventricular Arrhythmia Database'],\n",
       " ['szdb', 'Post-Ictal Heart Rate Oscillations in Partial Epilepsy'],\n",
       " ['taichidb', 'Tai Chi, Physiological Complexity, and Healthy Aging - Gait'],\n",
       " ['tappy', 'Tappy Keystroke Data'],\n",
       " ['tpehgdb', 'Term-Preterm EHG Database'],\n",
       " ['twadb', 'T-Wave Alternans Challenge Database'],\n",
       " ['ucddb', 'UCD Sleep Apnea Database'],\n",
       " ['unicaprop', 'UniCA ElectroTastegram Database (PROP)'],\n",
       " ['vfdb', 'MIT-BIH Malignant Ventricular Ectopy Database'],\n",
       " ['videopulse', 'Video Pulse Signals in Stationary and Motion Conditions'],\n",
       " ['wrist', 'Wrist PPG During Exercise']]"
      ]
     },
     "metadata": {},
     "output_type": "display_data"
    }
   ],
   "source": [
    "# Demo 16 - List the Physiobank Databases\n",
    "\n",
    "dbs = wfdb.getdblist()\n",
    "display(dbs)"
   ]
  },
  {
   "cell_type": "code",
   "execution_count": 18,
   "metadata": {},
   "outputs": [
    {
     "name": "stdout",
     "output_type": "stream",
     "text": [
      "Created local base download directory:  /Users/futa/Documents/Interdiciplinary/pcode/tmp_dl_dir\n",
      "Downloading files...\n",
      "Finished downloading files\n"
     ]
    },
    {
     "data": {
      "text/plain": [
       "['SC4062E0-PSG.edf.hyp',\n",
       " 'SC4171E0-PSG.edf',\n",
       " 'SC4071E0-PSG.edf.hyp',\n",
       " 'SC4121E0-PSG.edf.hyp',\n",
       " 'SC4002E0-PSG.edf',\n",
       " 'SC4112E0-PSG.edf',\n",
       " 'ST7221J0-PSG.edf.hyp',\n",
       " 'SC4012E0-PSG.edf.hyp',\n",
       " 'SC4142E0-PSG.edf.hyp',\n",
       " 'SC4081E0-PSG.edf.hyp',\n",
       " 'SC4061E0-PSG.edf',\n",
       " 'SC4151E0-PSG.edf.hyp',\n",
       " 'SC4001E0-PSG.edf.hyp',\n",
       " 'SC4092E0-PSG.edf.hyp',\n",
       " 'SC4011E0-PSG.edf.hyp',\n",
       " 'SC4141E0-PSG.edf.hyp',\n",
       " 'ST7141J0-PSG.edf',\n",
       " 'SC4142E0-PSG.edf',\n",
       " 'SC4082E0-PSG.edf.hyp',\n",
       " 'SC4152E0-PSG.edf.hyp',\n",
       " 'SC4002E0-PSG.edf.hyp',\n",
       " 'SC4082E0-PSG.edf',\n",
       " 'SC4031E0-PSG.edf',\n",
       " 'SC4091E0-PSG.edf.hyp',\n",
       " 'SC4121E0-PSG.edf',\n",
       " 'SC4131E0-PSG.edf.hyp',\n",
       " 'SC4061E0-PSG.edf.hyp',\n",
       " 'SC4192E0-PSG.edf',\n",
       " 'ST7241J0-PSG.edf.hyp',\n",
       " 'SC4052E0-PSG.edf',\n",
       " 'SC4072E0-PSG.edf.hyp',\n",
       " 'SC4122E0-PSG.edf.hyp',\n",
       " 'SC4182E0-PSG.edf.hyp',\n",
       " 'SC4111E0-PSG.edf.hyp',\n",
       " 'SC4041E0-PSG.edf.hyp',\n",
       " 'ST7092J0-PSG.edf',\n",
       " 'SC4091E0-PSG.edf',\n",
       " 'SC4022E0-PSG.edf',\n",
       " 'SC4191E0-PSG.edf.hyp',\n",
       " 'SC4052E0-PSG.edf.hyp',\n",
       " 'SC4102E0-PSG.edf.hyp',\n",
       " 'SC4151E0-PSG.edf',\n",
       " 'SC4041E0-PSG.edf',\n",
       " 'SC4031E0-PSG.edf.hyp',\n",
       " 'SC4161E0-PSG.edf.hyp',\n",
       " 'ST7241J0-PSG.edf',\n",
       " 'SC4181E0-PSG.edf',\n",
       " 'ST7182J0-PSG.edf',\n",
       " 'SC4172E0-PSG.edf.hyp',\n",
       " 'SC4022E0-PSG.edf.hyp',\n",
       " 'SC4032E0-PSG.edf.hyp',\n",
       " 'SC4162E0-PSG.edf.hyp',\n",
       " 'SC4011E0-PSG.edf',\n",
       " 'ST7201J0-PSG.edf.hyp',\n",
       " 'SC4171E0-PSG.edf.hyp',\n",
       " 'SC4021E0-PSG.edf.hyp',\n",
       " 'SC4162E0-PSG.edf',\n",
       " 'ST7212J0-PSG.edf.hyp',\n",
       " 'SC4181E0-PSG.edf.hyp',\n",
       " 'SC4072E0-PSG.edf',\n",
       " 'ST7071J0-PSG.edf',\n",
       " 'SC4112E0-PSG.edf.hyp',\n",
       " 'SC4042E0-PSG.edf.hyp',\n",
       " 'SC4192E0-PSG.edf.hyp',\n",
       " 'SC4101E0-PSG.edf',\n",
       " 'SC4051E0-PSG.edf.hyp',\n",
       " 'SC4101E0-PSG.edf.hyp',\n",
       " 'ST7151J0-PSG.edf',\n",
       " 'ST7221J0-PSG.edf',\n",
       " 'SC4152E0-PSG.edf',\n",
       " 'ST7061J0-PSG.edf.hyp',\n",
       " 'SC4092E0-PSG.edf',\n",
       " 'SC4021E0-PSG.edf',\n",
       " 'ST7022J0-PSG.edf',\n",
       " 'ST7082J0-PSG.edf.hyp',\n",
       " 'ST7132J0-PSG.edf',\n",
       " 'ST7011J0-PSG.edf.hyp',\n",
       " 'ST7141J0-PSG.edf.hyp',\n",
       " 'SC4131E0-PSG.edf',\n",
       " 'SC4182E0-PSG.edf',\n",
       " 'SC4042E0-PSG.edf',\n",
       " 'ST7041J0-PSG.edf',\n",
       " 'SC4161E0-PSG.edf',\n",
       " 'ST7162J0-PSG.edf',\n",
       " 'ST7212J0-PSG.edf',\n",
       " 'ST7092J0-PSG.edf.hyp',\n",
       " 'ST7011J0-PSG.edf',\n",
       " 'SC4012E0-PSG.edf',\n",
       " 'ST7151J0-PSG.edf.hyp',\n",
       " 'SC4102E0-PSG.edf',\n",
       " 'ST7132J0-PSG.edf.hyp',\n",
       " 'ST7101J0-PSG.edf',\n",
       " 'ST7071J0-PSG.edf.hyp',\n",
       " 'ST7121J0-PSG.edf.hyp',\n",
       " 'SC4071E0-PSG.edf',\n",
       " 'SC4001E0-PSG.edf',\n",
       " 'ST7112J0-PSG.edf.hyp',\n",
       " 'ST7201J0-PSG.edf',\n",
       " 'ST7171J0-PSG.edf',\n",
       " 'SC4172E0-PSG.edf',\n",
       " 'ST7101J0-PSG.edf.hyp',\n",
       " 'ST7192J0-PSG.edf.hyp',\n",
       " 'ST7162J0-PSG.edf.hyp',\n",
       " 'SC4062E0-PSG.edf',\n",
       " 'ST7061J0-PSG.edf',\n",
       " 'ST7171J0-PSG.edf.hyp',\n",
       " 'ST7112J0-PSG.edf',\n",
       " 'SC4111E0-PSG.edf',\n",
       " 'ST7082J0-PSG.edf',\n",
       " 'SC4081E0-PSG.edf',\n",
       " 'SC4032E0-PSG.edf',\n",
       " 'SC4141E0-PSG.edf',\n",
       " 'ST7022J0-PSG.edf.hyp',\n",
       " 'ST7041J0-PSG.edf.hyp',\n",
       " 'ST7052J0-PSG.edf',\n",
       " 'ST7182J0-PSG.edf.hyp',\n",
       " 'SC4051E0-PSG.edf',\n",
       " 'ST7052J0-PSG.edf.hyp',\n",
       " 'SC4122E0-PSG.edf',\n",
       " 'ST7121J0-PSG.edf',\n",
       " 'SC4191E0-PSG.edf',\n",
       " 'ST7192J0-PSG.edf']"
      ]
     },
     "metadata": {},
     "output_type": "display_data"
    }
   ],
   "source": [
    "# Demo 17 - Download all the WFDB records and annotations from a small Physiobank Database\n",
    "\n",
    "# Make a temporary download directory in your current working directory\n",
    "cwd = os.getcwd()\n",
    "dldir = os.path.join(cwd, 'tmp_dl_dir')\n",
    "# Make sure to use a new directory\n",
    "while os.path.exists(dldir):\n",
    "    dldir = dldir+'1'\n",
    "\n",
    "# Download all the WFDB content\n",
    "wfdb.dldatabase('sleep-edfx', dlbasedir = dldir)\n",
    "\n",
    "# Display the downloaded content in the folder\n",
    "display(os.listdir(dldir))"
   ]
  },
  {
   "cell_type": "code",
   "execution_count": 48,
   "metadata": {},
   "outputs": [
    {
     "ename": "FileNotFoundError",
     "evalue": "[Errno 2] No such file or directory: '../database/sleep-edfx/SC4002E0-PSG.atr'",
     "output_type": "error",
     "traceback": [
      "\u001b[0;31m---------------------------------------------------------------------------\u001b[0m",
      "\u001b[0;31mFileNotFoundError\u001b[0m                         Traceback (most recent call last)",
      "\u001b[0;32m<ipython-input-48-54241f0bec76>\u001b[0m in \u001b[0;36m<module>\u001b[0;34m()\u001b[0m\n\u001b[0;32m----> 1\u001b[0;31m \u001b[0mwfdb\u001b[0m\u001b[0;34m.\u001b[0m\u001b[0mrdann\u001b[0m\u001b[0;34m(\u001b[0m\u001b[0;34m'../database/sleep-edfx/SC4002E0-PSG'\u001b[0m\u001b[0;34m,\u001b[0m\u001b[0;34m'atr'\u001b[0m\u001b[0;34m)\u001b[0m\u001b[0;34m\u001b[0m\u001b[0m\n\u001b[0m",
      "\u001b[0;32m/Users/futa/Documents/Interdiciplinary/pcode/wfdb/readwrite/annotations.py\u001b[0m in \u001b[0;36mrdann\u001b[0;34m(recordname, extension, sampfrom, sampto, shiftsamps, pbdir, return_label_elements, summarize_labels)\u001b[0m\n\u001b[1;32m   1131\u001b[0m \u001b[0;34m\u001b[0m\u001b[0m\n\u001b[1;32m   1132\u001b[0m     \u001b[0;31m# Read the file in byte pairs\u001b[0m\u001b[0;34m\u001b[0m\u001b[0;34m\u001b[0m\u001b[0m\n\u001b[0;32m-> 1133\u001b[0;31m     \u001b[0mfilebytes\u001b[0m \u001b[0;34m=\u001b[0m \u001b[0mload_byte_pairs\u001b[0m\u001b[0;34m(\u001b[0m\u001b[0mrecordname\u001b[0m\u001b[0;34m,\u001b[0m \u001b[0mextension\u001b[0m\u001b[0;34m,\u001b[0m \u001b[0mpbdir\u001b[0m\u001b[0;34m)\u001b[0m\u001b[0;34m\u001b[0m\u001b[0m\n\u001b[0m\u001b[1;32m   1134\u001b[0m \u001b[0;34m\u001b[0m\u001b[0m\n\u001b[1;32m   1135\u001b[0m     \u001b[0;31m# Get wfdb annotation fields from the file bytes\u001b[0m\u001b[0;34m\u001b[0m\u001b[0;34m\u001b[0m\u001b[0m\n",
      "\u001b[0;32m/Users/futa/Documents/Interdiciplinary/pcode/wfdb/readwrite/annotations.py\u001b[0m in \u001b[0;36mload_byte_pairs\u001b[0;34m(recordname, extension, pbdir)\u001b[0m\n\u001b[1;32m   1196\u001b[0m     \u001b[0;31m# local file\u001b[0m\u001b[0;34m\u001b[0m\u001b[0;34m\u001b[0m\u001b[0m\n\u001b[1;32m   1197\u001b[0m     \u001b[0;32mif\u001b[0m \u001b[0mpbdir\u001b[0m \u001b[0;32mis\u001b[0m \u001b[0;32mNone\u001b[0m\u001b[0;34m:\u001b[0m\u001b[0;34m\u001b[0m\u001b[0m\n\u001b[0;32m-> 1198\u001b[0;31m         \u001b[0;32mwith\u001b[0m \u001b[0mopen\u001b[0m\u001b[0;34m(\u001b[0m\u001b[0mrecordname\u001b[0m \u001b[0;34m+\u001b[0m \u001b[0;34m'.'\u001b[0m \u001b[0;34m+\u001b[0m \u001b[0mextension\u001b[0m\u001b[0;34m,\u001b[0m \u001b[0;34m'rb'\u001b[0m\u001b[0;34m)\u001b[0m \u001b[0;32mas\u001b[0m \u001b[0mf\u001b[0m\u001b[0;34m:\u001b[0m\u001b[0;34m\u001b[0m\u001b[0m\n\u001b[0m\u001b[1;32m   1199\u001b[0m             \u001b[0mfilebytes\u001b[0m \u001b[0;34m=\u001b[0m \u001b[0mnp\u001b[0m\u001b[0;34m.\u001b[0m\u001b[0mfromfile\u001b[0m\u001b[0;34m(\u001b[0m\u001b[0mf\u001b[0m\u001b[0;34m,\u001b[0m \u001b[0;34m'<u1'\u001b[0m\u001b[0;34m)\u001b[0m\u001b[0;34m.\u001b[0m\u001b[0mreshape\u001b[0m\u001b[0;34m(\u001b[0m\u001b[0;34m[\u001b[0m\u001b[0;34m-\u001b[0m\u001b[0;36m1\u001b[0m\u001b[0;34m,\u001b[0m \u001b[0;36m2\u001b[0m\u001b[0;34m]\u001b[0m\u001b[0;34m)\u001b[0m\u001b[0;34m\u001b[0m\u001b[0m\n\u001b[1;32m   1200\u001b[0m     \u001b[0;31m# physiobank file\u001b[0m\u001b[0;34m\u001b[0m\u001b[0;34m\u001b[0m\u001b[0m\n",
      "\u001b[0;31mFileNotFoundError\u001b[0m: [Errno 2] No such file or directory: '../database/sleep-edfx/SC4002E0-PSG.atr'"
     ]
    }
   ],
   "source": [
    "wfdb.rdann('../database/sleep-edfx/SC4002E0-PSG','atr')"
   ]
  },
  {
   "cell_type": "code",
   "execution_count": null,
   "metadata": {
    "collapsed": true
   },
   "outputs": [],
   "source": [
    "# # Demo 18 - Download specified files from a Physiobank database\n",
    "\n",
    "# # The files to download\n",
    "# filelist = ['STAFF-Studies-bibliography-2016.pdf', 'data/001a.hea', 'data/001a.dat', 'data/001b.hea', 'data/001b.dat']\n",
    "\n",
    "# # Make a temporary download directory in your current working directory\n",
    "# cwd = os.getcwd()\n",
    "# dldir = os.path.join(cwd, 'tmp_dl_dir')\n",
    "# # Make sure to use a new directory\n",
    "# while os.path.exists(dldir):\n",
    "#     dldir = dldir+'1'\n",
    "\n",
    "# # Download the listed files\n",
    "# wfdb.dldatabasefiles('staffiii', dldir, filelist)\n",
    "\n",
    "# # Display the downloaded content in the folder\n",
    "# display(os.listdir(dldir))\n",
    "# display(os.listdir(os.path.join(dldir, 'data')))"
   ]
  },
  {
   "cell_type": "code",
   "execution_count": 46,
   "metadata": {},
   "outputs": [
    {
     "ename": "OSError",
     "evalue": "the file is not EDF(+) or BDF(+) compliant (it contains format errors)",
     "output_type": "error",
     "traceback": [
      "\u001b[0;31m---------------------------------------------------------------------------\u001b[0m",
      "\u001b[0;31mOSError\u001b[0m                                   Traceback (most recent call last)",
      "\u001b[0;32m<ipython-input-46-d1aa5c90c35e>\u001b[0m in \u001b[0;36m<module>\u001b[0;34m()\u001b[0m\n\u001b[1;32m      1\u001b[0m \u001b[0;32mimport\u001b[0m \u001b[0mpyedflib\u001b[0m\u001b[0;34m\u001b[0m\u001b[0m\n\u001b[1;32m      2\u001b[0m \u001b[0;32mimport\u001b[0m \u001b[0mnumpy\u001b[0m \u001b[0;32mas\u001b[0m \u001b[0mnp\u001b[0m\u001b[0;34m\u001b[0m\u001b[0m\n\u001b[0;32m----> 3\u001b[0;31m \u001b[0;32mwith\u001b[0m \u001b[0mpyedflib\u001b[0m\u001b[0;34m.\u001b[0m\u001b[0mEdfReader\u001b[0m\u001b[0;34m(\u001b[0m\u001b[0;34m\"../database/sleep-edfx/SC4001E0-PSG.edf.hyp\"\u001b[0m\u001b[0;34m)\u001b[0m \u001b[0;32mas\u001b[0m \u001b[0mf\u001b[0m\u001b[0;34m:\u001b[0m\u001b[0;34m\u001b[0m\u001b[0m\n\u001b[0m\u001b[1;32m      4\u001b[0m     \u001b[0mn\u001b[0m \u001b[0;34m=\u001b[0m \u001b[0mf\u001b[0m\u001b[0;34m.\u001b[0m\u001b[0msignals_in_file\u001b[0m\u001b[0;34m\u001b[0m\u001b[0m\n\u001b[1;32m      5\u001b[0m     \u001b[0msig_dicts\u001b[0m \u001b[0;34m=\u001b[0m \u001b[0;34m{\u001b[0m\u001b[0;34m}\u001b[0m\u001b[0;34m\u001b[0m\u001b[0m\n",
      "\u001b[0;32mpyedflib/_extensions/_pyedflib.pyx\u001b[0m in \u001b[0;36mpyedflib._extensions._pyedflib.CyEdfReader.__init__\u001b[0;34m()\u001b[0m\n",
      "\u001b[0;32mpyedflib/_extensions/_pyedflib.pyx\u001b[0m in \u001b[0;36mpyedflib._extensions._pyedflib.CyEdfReader.open\u001b[0;34m()\u001b[0m\n",
      "\u001b[0;32mpyedflib/_extensions/_pyedflib.pyx\u001b[0m in \u001b[0;36mpyedflib._extensions._pyedflib.CyEdfReader.check_open_ok\u001b[0;34m()\u001b[0m\n",
      "\u001b[0;31mOSError\u001b[0m: the file is not EDF(+) or BDF(+) compliant (it contains format errors)"
     ]
    }
   ],
   "source": [
    "import pyedflib\n",
    "import numpy as np\n",
    "with pyedflib.EdfReader(\"../database/sleep-edfx/SC4001E0-PSG.edf\") as f:\n",
    "    n = f.signals_in_file\n",
    "    sig_dicts = {}\n",
    "    signal_labels = f.getSignalLabels()\n",
    "    for i,sl in enumerate(signal_labels):\n",
    "        dicts = {}\n",
    "        dicts['NSamples'] = f.getNSamples()[i]\n",
    "        dicts['Data'] = f.readSignal(i)\n",
    "        sig_dicts[sl] = dicts"
   ]
  },
  {
   "cell_type": "code",
   "execution_count": 40,
   "metadata": {},
   "outputs": [
    {
     "data": {
      "text/plain": [
       "{'EEG Fpz-Cz': array([ 5.01684982, -2.57875458,  1.35970696, ...,  5.2981685 ,\n",
       "        -4.64175824,  6.61098901]),\n",
       " 'EEG Pz-Oz': array([-2.46739927,  1.46739927, -4.0989011 , ..., -3.04322344,\n",
       "        -3.71501832,  1.75531136]),\n",
       " 'EMG submental': array([ 3.552,  3.49 ,  3.476, ...,  3.546,  3.666,  3.582]),\n",
       " 'EOG horizontal': array([  16.50866911,   16.01587302,    9.60952381, ...,   69.73064713,\n",
       "          80.57216117,  102.25518926]),\n",
       " 'Event marker': array([ 920.,  899.,  919., ...,  884.,  898.,  898.]),\n",
       " 'Resp oro-nasal': array([-482.,  628.,  -95., ...,  145.,  100.,  125.]),\n",
       " 'Temp rectal': array([ 37.20645161,  37.22795699,  37.23655914, ...,  37.43978495,\n",
       "         37.45053763,  37.43225806])}"
      ]
     },
     "execution_count": 40,
     "metadata": {},
     "output_type": "execute_result"
    }
   ],
   "source": [
    "sig_dicts"
   ]
  },
  {
   "cell_type": "markdown",
   "metadata": {
    "collapsed": true
   },
   "source": [
    "## ECG Peak Detection"
   ]
  },
  {
   "cell_type": "code",
   "execution_count": null,
   "metadata": {
    "collapsed": true
   },
   "outputs": [],
   "source": [
    "def peaks_hr(x, peak_indices, fs, title, figsize=(20, 10), saveto=None):\n",
    "    \n",
    "    # Calculate heart rate\n",
    "    hrs = wfdb.processing.compute_hr(siglen=x.shape[0], peak_indices=peak_indices, fs=fs)\n",
    "    \n",
    "    N = x.shape[0]\n",
    "    \n",
    "    fig, ax_left = plt.subplots(figsize=figsize)\n",
    "    ax_right = ax_left.twinx()\n",
    "    \n",
    "    ax_left.plot(x, color='#3979f0', label='Signal')\n",
    "    ax_left.plot(peak_indices, x[peak_indices], 'rx', marker='x', color='#8b0000', label='Peak', markersize=12)\n",
    "    ax_right.plot(np.arange(N), hrs, label='Heart rate', color='m', linewidth=2)\n",
    "\n",
    "    ax_left.set_title(title)\n",
    "\n",
    "    ax_left.set_xlabel('Time (ms)')\n",
    "    ax_left.set_ylabel('ECG (mV)', color='#3979f0')\n",
    "    ax_right.set_ylabel('Heart rate (bpm)', color='m')\n",
    "    # Make the y-axis label, ticks and tick labels match the line color.\n",
    "    ax_left.tick_params('y', colors='#3979f0')\n",
    "    ax_right.tick_params('y', colors='m')\n",
    "    if saveto is not None:\n",
    "        plt.savefig(saveto, dpi=600)\n",
    "    plt.show()\n",
    "\n",
    "\n",
    "recordname = 'sampledata/100'\n",
    "\n",
    "def gqrs_plot(recordname, t0=0, tf=10000):\n",
    "    # Load the wfdb record and the physical samples\n",
    "    record = wfdb.rdsamp(recordname, sampfrom=t0, sampto=tf, channels=[0])\n",
    "    \n",
    "    # Use the gqrs algorithm to find peaks in the first channel\n",
    "    # The gqrs_detect argument expects a digital signal for the first argument.\n",
    "    d_signal = record.adc()[:,0]\n",
    "    peak_indices = wfdb.processing.gqrs_detect(d_signal, fs=record.fs, adcgain=record.adcgain[0], adczero=record.adczero[0], threshold=1.0)\n",
    "    print('gqrs detected peak indices:', peak_indices)\n",
    "    peaks_hr(x=record.p_signals, peak_indices=peak_indices, fs=record.fs, title=\"GQRS peak detection on sampledata/100\")\n",
    "    \n",
    "    # Correct the peaks by applying constraints\n",
    "    min_bpm = 20\n",
    "    max_bpm = 230\n",
    "    min_gap = record.fs*60/min_bpm\n",
    "    max_gap = record.fs*60/max_bpm\n",
    "    peak_indices = wfdb.processing.correct_peaks(d_signal, peak_indices=peak_indices, min_gap=min_gap, max_gap=max_gap, smooth_window=150)\n",
    "    print('corrected gqrs detected peak indices:', sorted(peak_indices))\n",
    "    peaks_hr(x=record.p_signals, peak_indices=sorted(peak_indices), fs=record.fs, title=\"Corrected GQRS peak detection on sampledata/100\")\n",
    "\n",
    "gqrs_plot(recordname)"
   ]
  },
  {
   "cell_type": "code",
   "execution_count": null,
   "metadata": {
    "collapsed": true
   },
   "outputs": [],
   "source": []
  }
 ],
 "metadata": {
  "kernelspec": {
   "display_name": "Python 3",
   "language": "python",
   "name": "python3"
  },
  "language_info": {
   "codemirror_mode": {
    "name": "ipython",
    "version": 3
   },
   "file_extension": ".py",
   "mimetype": "text/x-python",
   "name": "python",
   "nbconvert_exporter": "python",
   "pygments_lexer": "ipython3",
   "version": "3.6.1"
  }
 },
 "nbformat": 4,
 "nbformat_minor": 1
}
